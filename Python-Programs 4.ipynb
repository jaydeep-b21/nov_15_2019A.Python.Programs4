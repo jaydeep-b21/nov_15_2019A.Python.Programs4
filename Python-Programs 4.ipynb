{
 "cells": [
  {
   "cell_type": "markdown",
   "metadata": {},
   "source": [
    "# Python-Programs\n"
   ]
  },
  {
   "cell_type": "markdown",
   "metadata": {},
   "source": [
    "# B => Searching Algorithms - 1\n"
   ]
  },
  {
   "cell_type": "markdown",
   "metadata": {},
   "source": [
    "# (1) example of selection search"
   ]
  },
  {
   "cell_type": "code",
   "execution_count": 6,
   "metadata": {},
   "outputs": [
    {
     "name": "stdout",
     "output_type": "stream",
     "text": [
      "Target found at position: 2 in 3 iterations\n"
     ]
    }
   ],
   "source": [
    "def sequentialSearch(target, List):\n",
    "    '''This function returns the position of the target if found else returns -1'''\n",
    "    position = 0\n",
    "    global iterations\n",
    "    iterations = 0\n",
    "    while position < len(List):\n",
    "        iterations += 1\n",
    "        if target == List[position]:\n",
    "            return position\n",
    "        position += 1\n",
    "    return -1\n",
    "\n",
    "if __name__ == '__main__':\n",
    "    List = [1, 2, 3, 4, 5, 6, 7, 8]\n",
    "    target = 3\n",
    "    ans = sequentialSearch(target, List)\n",
    "    if ans != -1:\n",
    "        print('Target found at position:',ans,'in',iterations,'iterations')\n",
    "    else:\n",
    "        print('Target not found in the list')"
   ]
  },
  {
   "cell_type": "markdown",
   "metadata": {},
   "source": [
    "# (2) example of binary search algorithm"
   ]
  },
  {
   "cell_type": "code",
   "execution_count": 7,
   "metadata": {},
   "outputs": [
    {
     "name": "stdout",
     "output_type": "stream",
     "text": [
      "Target found at position: 1 in 4 iterations\n"
     ]
    }
   ],
   "source": [
    "def binarySearch(target, List):\n",
    "    '''This function performs a binary search on a sorted list and returns the position if successful else returns -1'''\n",
    "    left = 0 #First position of the list\n",
    "    right = len(List) - 1 #Last position of the list\n",
    "    global iterations\n",
    "    iterations = 0\n",
    "\n",
    "    while left <= right: #U can also write while True condition\n",
    "        iterations += 1\n",
    "        mid = (left + right) // 2\n",
    "        if target == List[mid]:\n",
    "            return mid\n",
    "        elif target < List[mid]:\n",
    "            right =  mid - 1\n",
    "        else:\n",
    "            left = mid + 1\n",
    "    return -1\n",
    "\n",
    "if __name__ == '__main__':\n",
    "    List = [1, 2, 3, 4, 5, 6, 7, 8, 9, 11, 12, 13, 14]\n",
    "    target = 2\n",
    "    ans = binarySearch(target, List)\n",
    "    if(ans != -1):\n",
    "        print('Target found at position:',ans,'in',iterations,'iterations')\n",
    "    else:\n",
    "        print('Target not found')"
   ]
  },
  {
   "cell_type": "markdown",
   "metadata": {},
   "source": [
    "# (3) example of N-ary search"
   ]
  },
  {
   "cell_type": "code",
   "execution_count": 8,
   "metadata": {},
   "outputs": [
    {
     "name": "stdout",
     "output_type": "stream",
     "text": [
      "Enter the key to search:433\n",
      "Searching from 0 to 10000000\n",
      "Array Size is:  10000000\n",
      "\n",
      "Searching from 0 to 999999\n",
      "Array Size is:  999999\n",
      "\n",
      "Searching from 0 to 99998\n",
      "Array Size is:  99998\n",
      "\n",
      "Searching from 0 to 9998\n",
      "Array Size is:  9998\n",
      "\n",
      "Searching from 0 to 998\n",
      "Array Size is:  998\n",
      "\n",
      "Searching from 397 to 495\n",
      "Array Size is:  98\n",
      "\n",
      "Element Found!\n"
     ]
    }
   ],
   "source": [
    "ARRAY_SIZE = 10000000       # Size of our array\n",
    "DIVISIONS = 10              # N-ary count\n",
    "\n",
    "def Main():\n",
    "    myArray = []\n",
    "    for i in range(0, ARRAY_SIZE + 1):\n",
    "        myArray.insert(i, i)\n",
    "\n",
    "    key = int(input('Enter the key to search:'))\n",
    "\n",
    "    low = 0\n",
    "    high = ARRAY_SIZE\n",
    "    found = 0\n",
    "\n",
    "    if(key < myArray[low] or key > myArray[high - 1]):\n",
    "        print('Key is out of range!')\n",
    "    else:\n",
    "        while(low < high):\n",
    "            if(key == myArray[low] or key == myArray[high]):\n",
    "                found = 1\n",
    "                break\n",
    "            else:\n",
    "                partitionSize = (high - low) // DIVISIONS\n",
    "                print('Searching from {} to {}'.format(low, high))\n",
    "                print('Array Size is: ',(high - low))\n",
    "\n",
    "                mid = [0]\n",
    "                for i in range(1, DIVISIONS + 1):\n",
    "                    mid.insert(i,low + partitionSize * i)\n",
    "                    if(key == myArray[mid[i]]):\n",
    "                        found = 1\n",
    "                print()\n",
    "                if(found):\n",
    "                    break\n",
    "\n",
    "                if(key < myArray[mid[1]]):\n",
    "                    high = mid[1] - 1\n",
    "                elif(key > myArray[mid[DIVISIONS - 1]]):\n",
    "                    low = mid[DIVISIONS - 1] + 1\n",
    "                else:\n",
    "                    for i in range(2, DIVISIONS + 1):\n",
    "                        if(key < myArray[mid[i]]):\n",
    "                            low = mid[i - 1] + 1\n",
    "                            high = mid[i];\n",
    "                            break;\n",
    "\n",
    "    if(found):\n",
    "        print('Element Found!')\n",
    "    else:\n",
    "        print('Not Found!')\n",
    "\n",
    "if __name__ == '__main__':\n",
    "    Main()"
   ]
  },
  {
   "cell_type": "code",
   "execution_count": null,
   "metadata": {},
   "outputs": [],
   "source": []
  }
 ],
 "metadata": {
  "kernelspec": {
   "display_name": "Python 3",
   "language": "python",
   "name": "python3"
  },
  "language_info": {
   "codemirror_mode": {
    "name": "ipython",
    "version": 3
   },
   "file_extension": ".py",
   "mimetype": "text/x-python",
   "name": "python",
   "nbconvert_exporter": "python",
   "pygments_lexer": "ipython3",
   "version": "3.7.3"
  }
 },
 "nbformat": 4,
 "nbformat_minor": 2
}
